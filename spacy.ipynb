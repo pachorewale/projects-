{
  "nbformat": 4,
  "nbformat_minor": 0,
  "metadata": {
    "colab": {
      "provenance": [],
      "include_colab_link": true
    },
    "kernelspec": {
      "name": "python3",
      "display_name": "Python 3"
    },
    "language_info": {
      "name": "python"
    }
  },
  "cells": [
    {
      "cell_type": "markdown",
      "metadata": {
        "id": "view-in-github",
        "colab_type": "text"
      },
      "source": [
        "<a href=\"https://colab.research.google.com/github/pachorewale/projects-/blob/main/spacy.ipynb\" target=\"_parent\"><img src=\"https://colab.research.google.com/assets/colab-badge.svg\" alt=\"Open In Colab\"/></a>"
      ]
    },
    {
      "cell_type": "code",
      "execution_count": null,
      "metadata": {
        "colab": {
          "base_uri": "https://localhost:8080/"
        },
        "id": "oZtMcbDigVyS",
        "outputId": "cc00559b-c1aa-4270-f3cd-0e21fa1a50cc"
      },
      "outputs": [
        {
          "output_type": "stream",
          "name": "stdout",
          "text": [
            "Requirement already satisfied: spacy in /usr/local/lib/python3.10/dist-packages (3.7.4)\n",
            "Requirement already satisfied: spacy-legacy<3.1.0,>=3.0.11 in /usr/local/lib/python3.10/dist-packages (from spacy) (3.0.12)\n",
            "Requirement already satisfied: spacy-loggers<2.0.0,>=1.0.0 in /usr/local/lib/python3.10/dist-packages (from spacy) (1.0.5)\n",
            "Requirement already satisfied: murmurhash<1.1.0,>=0.28.0 in /usr/local/lib/python3.10/dist-packages (from spacy) (1.0.10)\n",
            "Requirement already satisfied: cymem<2.1.0,>=2.0.2 in /usr/local/lib/python3.10/dist-packages (from spacy) (2.0.8)\n",
            "Requirement already satisfied: preshed<3.1.0,>=3.0.2 in /usr/local/lib/python3.10/dist-packages (from spacy) (3.0.9)\n",
            "Requirement already satisfied: thinc<8.3.0,>=8.2.2 in /usr/local/lib/python3.10/dist-packages (from spacy) (8.2.3)\n",
            "Requirement already satisfied: wasabi<1.2.0,>=0.9.1 in /usr/local/lib/python3.10/dist-packages (from spacy) (1.1.2)\n",
            "Requirement already satisfied: srsly<3.0.0,>=2.4.3 in /usr/local/lib/python3.10/dist-packages (from spacy) (2.4.8)\n",
            "Requirement already satisfied: catalogue<2.1.0,>=2.0.6 in /usr/local/lib/python3.10/dist-packages (from spacy) (2.0.10)\n",
            "Requirement already satisfied: weasel<0.4.0,>=0.1.0 in /usr/local/lib/python3.10/dist-packages (from spacy) (0.3.4)\n",
            "Requirement already satisfied: typer<0.10.0,>=0.3.0 in /usr/local/lib/python3.10/dist-packages (from spacy) (0.9.4)\n",
            "Requirement already satisfied: smart-open<7.0.0,>=5.2.1 in /usr/local/lib/python3.10/dist-packages (from spacy) (6.4.0)\n",
            "Requirement already satisfied: tqdm<5.0.0,>=4.38.0 in /usr/local/lib/python3.10/dist-packages (from spacy) (4.66.2)\n",
            "Requirement already satisfied: requests<3.0.0,>=2.13.0 in /usr/local/lib/python3.10/dist-packages (from spacy) (2.31.0)\n",
            "Requirement already satisfied: pydantic!=1.8,!=1.8.1,<3.0.0,>=1.7.4 in /usr/local/lib/python3.10/dist-packages (from spacy) (2.7.0)\n",
            "Requirement already satisfied: jinja2 in /usr/local/lib/python3.10/dist-packages (from spacy) (3.1.3)\n",
            "Requirement already satisfied: setuptools in /usr/local/lib/python3.10/dist-packages (from spacy) (67.7.2)\n",
            "Requirement already satisfied: packaging>=20.0 in /usr/local/lib/python3.10/dist-packages (from spacy) (24.0)\n",
            "Requirement already satisfied: langcodes<4.0.0,>=3.2.0 in /usr/local/lib/python3.10/dist-packages (from spacy) (3.3.0)\n",
            "Requirement already satisfied: numpy>=1.19.0 in /usr/local/lib/python3.10/dist-packages (from spacy) (1.25.2)\n",
            "Requirement already satisfied: annotated-types>=0.4.0 in /usr/local/lib/python3.10/dist-packages (from pydantic!=1.8,!=1.8.1,<3.0.0,>=1.7.4->spacy) (0.6.0)\n",
            "Requirement already satisfied: pydantic-core==2.18.1 in /usr/local/lib/python3.10/dist-packages (from pydantic!=1.8,!=1.8.1,<3.0.0,>=1.7.4->spacy) (2.18.1)\n",
            "Requirement already satisfied: typing-extensions>=4.6.1 in /usr/local/lib/python3.10/dist-packages (from pydantic!=1.8,!=1.8.1,<3.0.0,>=1.7.4->spacy) (4.11.0)\n",
            "Requirement already satisfied: charset-normalizer<4,>=2 in /usr/local/lib/python3.10/dist-packages (from requests<3.0.0,>=2.13.0->spacy) (3.3.2)\n",
            "Requirement already satisfied: idna<4,>=2.5 in /usr/local/lib/python3.10/dist-packages (from requests<3.0.0,>=2.13.0->spacy) (3.7)\n",
            "Requirement already satisfied: urllib3<3,>=1.21.1 in /usr/local/lib/python3.10/dist-packages (from requests<3.0.0,>=2.13.0->spacy) (2.0.7)\n",
            "Requirement already satisfied: certifi>=2017.4.17 in /usr/local/lib/python3.10/dist-packages (from requests<3.0.0,>=2.13.0->spacy) (2024.2.2)\n",
            "Requirement already satisfied: blis<0.8.0,>=0.7.8 in /usr/local/lib/python3.10/dist-packages (from thinc<8.3.0,>=8.2.2->spacy) (0.7.11)\n",
            "Requirement already satisfied: confection<1.0.0,>=0.0.1 in /usr/local/lib/python3.10/dist-packages (from thinc<8.3.0,>=8.2.2->spacy) (0.1.4)\n",
            "Requirement already satisfied: click<9.0.0,>=7.1.1 in /usr/local/lib/python3.10/dist-packages (from typer<0.10.0,>=0.3.0->spacy) (8.1.7)\n",
            "Requirement already satisfied: cloudpathlib<0.17.0,>=0.7.0 in /usr/local/lib/python3.10/dist-packages (from weasel<0.4.0,>=0.1.0->spacy) (0.16.0)\n",
            "Requirement already satisfied: MarkupSafe>=2.0 in /usr/local/lib/python3.10/dist-packages (from jinja2->spacy) (2.1.5)\n",
            "\u001b[38;5;3m⚠ As of spaCy v3.0, shortcuts like 'en' are deprecated. Please use the\n",
            "full pipeline package name 'en_core_web_sm' instead.\u001b[0m\n",
            "Collecting en-core-web-sm==3.7.1\n",
            "  Downloading https://github.com/explosion/spacy-models/releases/download/en_core_web_sm-3.7.1/en_core_web_sm-3.7.1-py3-none-any.whl (12.8 MB)\n",
            "\u001b[2K     \u001b[90m━━━━━━━━━━━━━━━━━━━━━━━━━━━━━━━━━━━━━━━━\u001b[0m \u001b[32m12.8/12.8 MB\u001b[0m \u001b[31m28.7 MB/s\u001b[0m eta \u001b[36m0:00:00\u001b[0m\n",
            "\u001b[?25hRequirement already satisfied: spacy<3.8.0,>=3.7.2 in /usr/local/lib/python3.10/dist-packages (from en-core-web-sm==3.7.1) (3.7.4)\n",
            "Requirement already satisfied: spacy-legacy<3.1.0,>=3.0.11 in /usr/local/lib/python3.10/dist-packages (from spacy<3.8.0,>=3.7.2->en-core-web-sm==3.7.1) (3.0.12)\n",
            "Requirement already satisfied: spacy-loggers<2.0.0,>=1.0.0 in /usr/local/lib/python3.10/dist-packages (from spacy<3.8.0,>=3.7.2->en-core-web-sm==3.7.1) (1.0.5)\n",
            "Requirement already satisfied: murmurhash<1.1.0,>=0.28.0 in /usr/local/lib/python3.10/dist-packages (from spacy<3.8.0,>=3.7.2->en-core-web-sm==3.7.1) (1.0.10)\n",
            "Requirement already satisfied: cymem<2.1.0,>=2.0.2 in /usr/local/lib/python3.10/dist-packages (from spacy<3.8.0,>=3.7.2->en-core-web-sm==3.7.1) (2.0.8)\n",
            "Requirement already satisfied: preshed<3.1.0,>=3.0.2 in /usr/local/lib/python3.10/dist-packages (from spacy<3.8.0,>=3.7.2->en-core-web-sm==3.7.1) (3.0.9)\n",
            "Requirement already satisfied: thinc<8.3.0,>=8.2.2 in /usr/local/lib/python3.10/dist-packages (from spacy<3.8.0,>=3.7.2->en-core-web-sm==3.7.1) (8.2.3)\n",
            "Requirement already satisfied: wasabi<1.2.0,>=0.9.1 in /usr/local/lib/python3.10/dist-packages (from spacy<3.8.0,>=3.7.2->en-core-web-sm==3.7.1) (1.1.2)\n",
            "Requirement already satisfied: srsly<3.0.0,>=2.4.3 in /usr/local/lib/python3.10/dist-packages (from spacy<3.8.0,>=3.7.2->en-core-web-sm==3.7.1) (2.4.8)\n",
            "Requirement already satisfied: catalogue<2.1.0,>=2.0.6 in /usr/local/lib/python3.10/dist-packages (from spacy<3.8.0,>=3.7.2->en-core-web-sm==3.7.1) (2.0.10)\n",
            "Requirement already satisfied: weasel<0.4.0,>=0.1.0 in /usr/local/lib/python3.10/dist-packages (from spacy<3.8.0,>=3.7.2->en-core-web-sm==3.7.1) (0.3.4)\n",
            "Requirement already satisfied: typer<0.10.0,>=0.3.0 in /usr/local/lib/python3.10/dist-packages (from spacy<3.8.0,>=3.7.2->en-core-web-sm==3.7.1) (0.9.4)\n",
            "Requirement already satisfied: smart-open<7.0.0,>=5.2.1 in /usr/local/lib/python3.10/dist-packages (from spacy<3.8.0,>=3.7.2->en-core-web-sm==3.7.1) (6.4.0)\n",
            "Requirement already satisfied: tqdm<5.0.0,>=4.38.0 in /usr/local/lib/python3.10/dist-packages (from spacy<3.8.0,>=3.7.2->en-core-web-sm==3.7.1) (4.66.2)\n",
            "Requirement already satisfied: requests<3.0.0,>=2.13.0 in /usr/local/lib/python3.10/dist-packages (from spacy<3.8.0,>=3.7.2->en-core-web-sm==3.7.1) (2.31.0)\n",
            "Requirement already satisfied: pydantic!=1.8,!=1.8.1,<3.0.0,>=1.7.4 in /usr/local/lib/python3.10/dist-packages (from spacy<3.8.0,>=3.7.2->en-core-web-sm==3.7.1) (2.7.0)\n",
            "Requirement already satisfied: jinja2 in /usr/local/lib/python3.10/dist-packages (from spacy<3.8.0,>=3.7.2->en-core-web-sm==3.7.1) (3.1.3)\n",
            "Requirement already satisfied: setuptools in /usr/local/lib/python3.10/dist-packages (from spacy<3.8.0,>=3.7.2->en-core-web-sm==3.7.1) (67.7.2)\n",
            "Requirement already satisfied: packaging>=20.0 in /usr/local/lib/python3.10/dist-packages (from spacy<3.8.0,>=3.7.2->en-core-web-sm==3.7.1) (24.0)\n",
            "Requirement already satisfied: langcodes<4.0.0,>=3.2.0 in /usr/local/lib/python3.10/dist-packages (from spacy<3.8.0,>=3.7.2->en-core-web-sm==3.7.1) (3.3.0)\n",
            "Requirement already satisfied: numpy>=1.19.0 in /usr/local/lib/python3.10/dist-packages (from spacy<3.8.0,>=3.7.2->en-core-web-sm==3.7.1) (1.25.2)\n",
            "Requirement already satisfied: annotated-types>=0.4.0 in /usr/local/lib/python3.10/dist-packages (from pydantic!=1.8,!=1.8.1,<3.0.0,>=1.7.4->spacy<3.8.0,>=3.7.2->en-core-web-sm==3.7.1) (0.6.0)\n",
            "Requirement already satisfied: pydantic-core==2.18.1 in /usr/local/lib/python3.10/dist-packages (from pydantic!=1.8,!=1.8.1,<3.0.0,>=1.7.4->spacy<3.8.0,>=3.7.2->en-core-web-sm==3.7.1) (2.18.1)\n",
            "Requirement already satisfied: typing-extensions>=4.6.1 in /usr/local/lib/python3.10/dist-packages (from pydantic!=1.8,!=1.8.1,<3.0.0,>=1.7.4->spacy<3.8.0,>=3.7.2->en-core-web-sm==3.7.1) (4.11.0)\n",
            "Requirement already satisfied: charset-normalizer<4,>=2 in /usr/local/lib/python3.10/dist-packages (from requests<3.0.0,>=2.13.0->spacy<3.8.0,>=3.7.2->en-core-web-sm==3.7.1) (3.3.2)\n",
            "Requirement already satisfied: idna<4,>=2.5 in /usr/local/lib/python3.10/dist-packages (from requests<3.0.0,>=2.13.0->spacy<3.8.0,>=3.7.2->en-core-web-sm==3.7.1) (3.7)\n",
            "Requirement already satisfied: urllib3<3,>=1.21.1 in /usr/local/lib/python3.10/dist-packages (from requests<3.0.0,>=2.13.0->spacy<3.8.0,>=3.7.2->en-core-web-sm==3.7.1) (2.0.7)\n",
            "Requirement already satisfied: certifi>=2017.4.17 in /usr/local/lib/python3.10/dist-packages (from requests<3.0.0,>=2.13.0->spacy<3.8.0,>=3.7.2->en-core-web-sm==3.7.1) (2024.2.2)\n",
            "Requirement already satisfied: blis<0.8.0,>=0.7.8 in /usr/local/lib/python3.10/dist-packages (from thinc<8.3.0,>=8.2.2->spacy<3.8.0,>=3.7.2->en-core-web-sm==3.7.1) (0.7.11)\n",
            "Requirement already satisfied: confection<1.0.0,>=0.0.1 in /usr/local/lib/python3.10/dist-packages (from thinc<8.3.0,>=8.2.2->spacy<3.8.0,>=3.7.2->en-core-web-sm==3.7.1) (0.1.4)\n",
            "Requirement already satisfied: click<9.0.0,>=7.1.1 in /usr/local/lib/python3.10/dist-packages (from typer<0.10.0,>=0.3.0->spacy<3.8.0,>=3.7.2->en-core-web-sm==3.7.1) (8.1.7)\n",
            "Requirement already satisfied: cloudpathlib<0.17.0,>=0.7.0 in /usr/local/lib/python3.10/dist-packages (from weasel<0.4.0,>=0.1.0->spacy<3.8.0,>=3.7.2->en-core-web-sm==3.7.1) (0.16.0)\n",
            "Requirement already satisfied: MarkupSafe>=2.0 in /usr/local/lib/python3.10/dist-packages (from jinja2->spacy<3.8.0,>=3.7.2->en-core-web-sm==3.7.1) (2.1.5)\n",
            "\u001b[38;5;2m✔ Download and installation successful\u001b[0m\n",
            "You can now load the package via spacy.load('en_core_web_sm')\n",
            "\u001b[38;5;3m⚠ Restart to reload dependencies\u001b[0m\n",
            "If you are in a Jupyter or Colab notebook, you may need to restart Python in\n",
            "order to load all the package's dependencies. You can do this by selecting the\n",
            "'Restart kernel' or 'Restart runtime' option.\n"
          ]
        }
      ],
      "source": [
        "!pip install spacy\n",
        "!python -m spacy download en"
      ]
    },
    {
      "cell_type": "code",
      "source": [
        "from spacy.lang.en import English\n",
        "nlp = English()"
      ],
      "metadata": {
        "id": "F5d24Fr1gqoL"
      },
      "execution_count": null,
      "outputs": []
    },
    {
      "cell_type": "code",
      "source": [
        "text = \"\"\"In the age of information, data is the currency that fuels innovation, drives decision-making, and shapes the world around us. From personalized recommendations on streaming platforms to cutting-edge medical diagnoses, the applications of data science are as vast as they are profound. In this article, we delve into the captivating realm of data science, exploring its significance, methodologies, and transformative potential across various domains\n",
        "At its core, data science is the interdisciplinary field that extracts knowledge and insights from structured and unstructured data. It amalgamates elements of statistics, computer science, domain expertise, and machine learning to interpret complex data sets, uncover patterns, and derive actionable intelligence. In essence, data science serves as the bridge between raw data and informed decision-making, empowering organizations and individuals alike to harness the full potential of their data assets.\n",
        "\"\"\""
      ],
      "metadata": {
        "id": "w5yPYo91gqyZ"
      },
      "execution_count": null,
      "outputs": []
    },
    {
      "cell_type": "code",
      "source": [
        "my_doc=nlp(text)"
      ],
      "metadata": {
        "id": "HlEKyn0vg8RM"
      },
      "execution_count": null,
      "outputs": []
    },
    {
      "cell_type": "code",
      "source": [
        "token_list=[]\n",
        "for token in my_doc:\n",
        "  token_list.append(token)\n",
        "print(token_list)\n"
      ],
      "metadata": {
        "colab": {
          "base_uri": "https://localhost:8080/"
        },
        "id": "kYPNXwi5g9gn",
        "outputId": "c47ce57f-c1df-4652-bf40-912c7a5d075c"
      },
      "execution_count": null,
      "outputs": [
        {
          "output_type": "stream",
          "name": "stdout",
          "text": [
            "[In, the, age, of, information, ,, data, is, the, currency, that, fuels, innovation, ,, drives, decision, -, making, ,, and, shapes, the, world, around, us, ., From, personalized, recommendations, on, streaming, platforms, to, cutting, -, edge, medical, diagnoses, ,, the, applications, of, data, science, are, as, vast, as, they, are, profound, ., In, this, article, ,, we, delve, into, the, captivating, realm, of, data, science, ,, exploring, its, significance, ,, methodologies, ,, and, transformative, potential, across, various, domains, \n",
            ", At, its, core, ,, data, science, is, the, interdisciplinary, field, that, extracts, knowledge, and, insights, from, structured, and, unstructured, data, ., It, amalgamates, elements, of, statistics, ,, computer, science, ,, domain, expertise, ,, and, machine, learning, to, interpret, complex, data, sets, ,, uncover, patterns, ,, and, derive, actionable, intelligence, ., In, essence, ,, data, science, serves, as, the, bridge, between, raw, data, and, informed, decision, -, making, ,, empowering, organizations, and, individuals, alike, to, harness, the, full, potential, of, their, data, assets, ., \n",
            "]\n"
          ]
        }
      ]
    },
    {
      "cell_type": "code",
      "source": [
        "from spacy.lang.en import English\n",
        "from spacy.pipeline.sentencizer import Sentencizer\n",
        "nlp = English()\n",
        "\n",
        "sentencizer = Sentencizer()\n",
        "nlp.add_pipe('sentencizer')\n",
        "\n",
        "text = \"\"\"In the age of information, data is the currency that fuels innovation, drives decision-making, and shapes the world around us. From personalized recommendations on streaming platforms to cutting-edge medical diagnoses, the applications of data science are as vast as they are profound. In this article, we delve into the captivating realm of data science, exploring its significance, methodologies, and transformative potential across various domains.\n",
        "At its core, data science is the interdisciplinary field that extracts knowledge and insights from structured and unstructured data. It amalgamates elements of statistics, computer science, domain expertise, and machine learning to interpret complex data sets, uncover patterns, and derive actionable intelligence. In essence, data science serves as the bridge between raw data and informed decision-making, empowering organizations and individuals alike to harness the full potential of their data assets.\n",
        "\"\"\"\n",
        "\n",
        "doc = nlp(text)\n",
        "list(doc.sents)"
      ],
      "metadata": {
        "id": "TW_UObUIhkyb",
        "colab": {
          "base_uri": "https://localhost:8080/"
        },
        "outputId": "1efa0468-0854-44fb-c777-f059fffc1b4f"
      },
      "execution_count": null,
      "outputs": [
        {
          "output_type": "execute_result",
          "data": {
            "text/plain": [
              "[In the age of information, data is the currency that fuels innovation, drives decision-making, and shapes the world around us.,\n",
              " From personalized recommendations on streaming platforms to cutting-edge medical diagnoses, the applications of data science are as vast as they are profound.,\n",
              " In this article, we delve into the captivating realm of data science, exploring its significance, methodologies, and transformative potential across various domains.,\n",
              " \n",
              " At its core, data science is the interdisciplinary field that extracts knowledge and insights from structured and unstructured data.,\n",
              " It amalgamates elements of statistics, computer science, domain expertise, and machine learning to interpret complex data sets, uncover patterns, and derive actionable intelligence.,\n",
              " In essence, data science serves as the bridge between raw data and informed decision-making, empowering organizations and individuals alike to harness the full potential of their data assets.,\n",
              " ]"
            ]
          },
          "metadata": {},
          "execution_count": 16
        }
      ]
    },
    {
      "cell_type": "code",
      "source": [
        "for sent in doc.sents:\n",
        "  print(sent,\"\\n\")"
      ],
      "metadata": {
        "colab": {
          "base_uri": "https://localhost:8080/"
        },
        "id": "OoqmBLOEhk8G",
        "outputId": "d54e5e79-8210-43d7-f4b3-e17d2955194d"
      },
      "execution_count": null,
      "outputs": [
        {
          "output_type": "stream",
          "name": "stdout",
          "text": [
            "In the age of information, data is the currency that fuels innovation, drives decision-making, and shapes the world around us. \n",
            "\n",
            "From personalized recommendations on streaming platforms to cutting-edge medical diagnoses, the applications of data science are as vast as they are profound. \n",
            "\n",
            "In this article, we delve into the captivating realm of data science, exploring its significance, methodologies, and transformative potential across various domains. \n",
            "\n",
            "\n",
            "At its core, data science is the interdisciplinary field that extracts knowledge and insights from structured and unstructured data. \n",
            "\n",
            "It amalgamates elements of statistics, computer science, domain expertise, and machine learning to interpret complex data sets, uncover patterns, and derive actionable intelligence. \n",
            "\n",
            "In essence, data science serves as the bridge between raw data and informed decision-making, empowering organizations and individuals alike to harness the full potential of their data assets. \n",
            "\n",
            "\n",
            " \n",
            "\n"
          ]
        }
      ]
    },
    {
      "cell_type": "code",
      "source": [
        "doc = nlp(text)\n",
        "\n",
        "filtered_sent=[]\n",
        "\n",
        "\n",
        "for word in doc:\n",
        "  if word.is_stop==False:\n",
        "    if word.is_punct==False:\n",
        "       filtered_sent.append(word)\n",
        "\n",
        "\n",
        "\n",
        "\n",
        "filtered_sent"
      ],
      "metadata": {
        "id": "LQek-wgbg9vx",
        "colab": {
          "base_uri": "https://localhost:8080/"
        },
        "outputId": "ed586542-20f5-4bbe-8692-423ebfc3d33e"
      },
      "execution_count": null,
      "outputs": [
        {
          "output_type": "execute_result",
          "data": {
            "text/plain": [
              "[age,\n",
              " information,\n",
              " data,\n",
              " currency,\n",
              " fuels,\n",
              " innovation,\n",
              " drives,\n",
              " decision,\n",
              " making,\n",
              " shapes,\n",
              " world,\n",
              " personalized,\n",
              " recommendations,\n",
              " streaming,\n",
              " platforms,\n",
              " cutting,\n",
              " edge,\n",
              " medical,\n",
              " diagnoses,\n",
              " applications,\n",
              " data,\n",
              " science,\n",
              " vast,\n",
              " profound,\n",
              " article,\n",
              " delve,\n",
              " captivating,\n",
              " realm,\n",
              " data,\n",
              " science,\n",
              " exploring,\n",
              " significance,\n",
              " methodologies,\n",
              " transformative,\n",
              " potential,\n",
              " domains,\n",
              " ,\n",
              " core,\n",
              " data,\n",
              " science,\n",
              " interdisciplinary,\n",
              " field,\n",
              " extracts,\n",
              " knowledge,\n",
              " insights,\n",
              " structured,\n",
              " unstructured,\n",
              " data,\n",
              " amalgamates,\n",
              " elements,\n",
              " statistics,\n",
              " computer,\n",
              " science,\n",
              " domain,\n",
              " expertise,\n",
              " machine,\n",
              " learning,\n",
              " interpret,\n",
              " complex,\n",
              " data,\n",
              " sets,\n",
              " uncover,\n",
              " patterns,\n",
              " derive,\n",
              " actionable,\n",
              " intelligence,\n",
              " essence,\n",
              " data,\n",
              " science,\n",
              " serves,\n",
              " bridge,\n",
              " raw,\n",
              " data,\n",
              " informed,\n",
              " decision,\n",
              " making,\n",
              " empowering,\n",
              " organizations,\n",
              " individuals,\n",
              " alike,\n",
              " harness,\n",
              " potential,\n",
              " data,\n",
              " assets,\n",
              " ]"
            ]
          },
          "metadata": {},
          "execution_count": 9
        }
      ]
    },
    {
      "cell_type": "code",
      "source": [
        "import en_core_web_sm\n",
        "\n",
        "nlp = en_core_web_sm.load()\n",
        "\n",
        "text = \"\"\"In the age of information, data is the currency that fuels innovation, drives decision-making, and shapes the world around us. From personalized recommendations on streaming platforms to cutting-edge medical diagnoses, the applications of data science are as vast as they are profound. In this article, we delve into the captivating realm of data science, exploring its significance, methodologies, and transformative potential across various domains.\n",
        "At its core, data science is the interdisciplinary field that extracts knowledge and insights from structured and unstructured data. It amalgamates elements of statistics, computer science, domain expertise, and machine learning to interpret complex data sets, uncover patterns, and derive actionable intelligence. In essence, data science serves as the bridge between raw data and informed decision-making, empowering organizations and individuals alike to harness the full potential of their data assets.\n",
        "\"\"\"\n",
        "\n",
        "\n",
        "doc = nlp(text)\n",
        "\n",
        "\n",
        "for word in doc:\n",
        "  print(word.text,word.lemma_)\n",
        "\n"
      ],
      "metadata": {
        "colab": {
          "base_uri": "https://localhost:8080/"
        },
        "id": "1gvNdsZ0pIC2",
        "outputId": "40b80d4b-775e-4712-c0ad-8d213cd9b32a"
      },
      "execution_count": null,
      "outputs": [
        {
          "output_type": "stream",
          "name": "stdout",
          "text": [
            "In in\n",
            "the the\n",
            "age age\n",
            "of of\n",
            "information information\n",
            ", ,\n",
            "data datum\n",
            "is be\n",
            "the the\n",
            "currency currency\n",
            "that that\n",
            "fuels fuel\n",
            "innovation innovation\n",
            ", ,\n",
            "drives drive\n",
            "decision decision\n",
            "- -\n",
            "making making\n",
            ", ,\n",
            "and and\n",
            "shapes shape\n",
            "the the\n",
            "world world\n",
            "around around\n",
            "us we\n",
            ". .\n",
            "From from\n",
            "personalized personalized\n",
            "recommendations recommendation\n",
            "on on\n",
            "streaming stream\n",
            "platforms platform\n",
            "to to\n",
            "cutting cut\n",
            "- -\n",
            "edge edge\n",
            "medical medical\n",
            "diagnoses diagnosis\n",
            ", ,\n",
            "the the\n",
            "applications application\n",
            "of of\n",
            "data datum\n",
            "science science\n",
            "are be\n",
            "as as\n",
            "vast vast\n",
            "as as\n",
            "they they\n",
            "are be\n",
            "profound profound\n",
            ". .\n",
            "In in\n",
            "this this\n",
            "article article\n",
            ", ,\n",
            "we we\n",
            "delve delve\n",
            "into into\n",
            "the the\n",
            "captivating captivate\n",
            "realm realm\n",
            "of of\n",
            "data datum\n",
            "science science\n",
            ", ,\n",
            "exploring explore\n",
            "its its\n",
            "significance significance\n",
            ", ,\n",
            "methodologies methodology\n",
            ", ,\n",
            "and and\n",
            "transformative transformative\n",
            "potential potential\n",
            "across across\n",
            "various various\n",
            "domains domain\n",
            ". .\n",
            "\n",
            " \n",
            "\n",
            "At at\n",
            "its its\n",
            "core core\n",
            ", ,\n",
            "data datum\n",
            "science science\n",
            "is be\n",
            "the the\n",
            "interdisciplinary interdisciplinary\n",
            "field field\n",
            "that that\n",
            "extracts extract\n",
            "knowledge knowledge\n",
            "and and\n",
            "insights insight\n",
            "from from\n",
            "structured structured\n",
            "and and\n",
            "unstructured unstructured\n",
            "data datum\n",
            ". .\n",
            "It it\n",
            "amalgamates amalgamate\n",
            "elements element\n",
            "of of\n",
            "statistics statistic\n",
            ", ,\n",
            "computer computer\n",
            "science science\n",
            ", ,\n",
            "domain domain\n",
            "expertise expertise\n",
            ", ,\n",
            "and and\n",
            "machine machine\n",
            "learning learning\n",
            "to to\n",
            "interpret interpret\n",
            "complex complex\n",
            "data data\n",
            "sets set\n",
            ", ,\n",
            "uncover uncover\n",
            "patterns pattern\n",
            ", ,\n",
            "and and\n",
            "derive derive\n",
            "actionable actionable\n",
            "intelligence intelligence\n",
            ". .\n",
            "In in\n",
            "essence essence\n",
            ", ,\n",
            "data datum\n",
            "science science\n",
            "serves serve\n",
            "as as\n",
            "the the\n",
            "bridge bridge\n",
            "between between\n",
            "raw raw\n",
            "data datum\n",
            "and and\n",
            "informed informed\n",
            "decision decision\n",
            "- -\n",
            "making making\n",
            ", ,\n",
            "empowering empower\n",
            "organizations organization\n",
            "and and\n",
            "individuals individual\n",
            "alike alike\n",
            "to to\n",
            "harness harness\n",
            "the the\n",
            "full full\n",
            "potential potential\n",
            "of of\n",
            "their their\n",
            "data datum\n",
            "assets asset\n",
            ". .\n",
            "\n",
            " \n",
            "\n"
          ]
        }
      ]
    },
    {
      "cell_type": "code",
      "source": [
        "docs = nlp(u\"The journey of data science unfolds through a structured lifecycle, comprising several key stages:\")\n",
        "\n",
        "for word in docs:\n",
        "    print(word.text,word.pos_)"
      ],
      "metadata": {
        "id": "6xElT-ofpIOb",
        "colab": {
          "base_uri": "https://localhost:8080/"
        },
        "outputId": "11818b72-b0f8-4e9e-87f4-0e9602a53037"
      },
      "execution_count": null,
      "outputs": [
        {
          "output_type": "stream",
          "name": "stdout",
          "text": [
            "The DET\n",
            "journey NOUN\n",
            "of ADP\n",
            "data NOUN\n",
            "science NOUN\n",
            "unfolds VERB\n",
            "through ADP\n",
            "a DET\n",
            "structured ADJ\n",
            "lifecycle NOUN\n",
            ", PUNCT\n",
            "comprising VERB\n",
            "several ADJ\n",
            "key ADJ\n",
            "stages NOUN\n",
            ": PUNCT\n"
          ]
        }
      ]
    },
    {
      "cell_type": "code",
      "source": [
        "docs = nlp(u\"The journey of data science unfolds through a structured lifecycle, comprising several key stages:\")\n",
        "for word in docs:\n",
        "  print(word.text,word.lemma_,word.is_punct,word.is_stop,word.pos_)"
      ],
      "metadata": {
        "colab": {
          "base_uri": "https://localhost:8080/"
        },
        "id": "G4IVYdQRMf3k",
        "outputId": "72f41de2-ecf4-4b20-b14f-59ed8dba5d10"
      },
      "execution_count": null,
      "outputs": [
        {
          "output_type": "stream",
          "name": "stdout",
          "text": [
            "The the False True DET\n",
            "journey journey False False NOUN\n",
            "of of False True ADP\n",
            "data datum False False NOUN\n",
            "science science False False NOUN\n",
            "unfolds unfold False False VERB\n",
            "through through False True ADP\n",
            "a a False True DET\n",
            "structured structured False False ADJ\n",
            "lifecycle lifecycle False False NOUN\n",
            ", , True False PUNCT\n",
            "comprising comprise False False VERB\n",
            "several several False True ADJ\n",
            "key key False False ADJ\n",
            "stages stage False False NOUN\n",
            ": : True False PUNCT\n"
          ]
        }
      ]
    },
    {
      "cell_type": "code",
      "source": [
        "doc = nlp(\"The journey of data science unfolds through a structured lifecycle, comprising several key stages:\")\n",
        "for ent in doc.ents:\n",
        "  print(ent.text,ent.start_char,ent.end_char,ent.label_)\n"
      ],
      "metadata": {
        "id": "3fFsHC9VNhRF"
      },
      "execution_count": null,
      "outputs": []
    },
    {
      "cell_type": "code",
      "source": [
        "nytimes= nlp(u\"\"\"New Delhi : The pace of growth in India’s fuel consumption faltered in June as monsoon advanced through most parts of the country and holiday season tapered off. This muted demand from farm, construction and travel sectors after two months of a sharp uptick.\n",
        "Preliminary industry data shows diesel demand — a key indicator of economic activity — slipped into the red, with sales dropping 3. 7% from a year ago. But petrol consumption grew by about the same margin, buoyed by the concluding strains of holiday travel and people’s continued preference for personal vehicles.\n",
        "Sequentially too June sales remained flat, with diesel slipping marginally 0. 4% from May and petrol remaining same level as before. This is largely due to the seasonal factor when rains impact construction and transportation as well as use of irrigation pumps, while lower demand for power precludes use of generators.\n",
        "Sales have moved into the slow lane after growing at a blistering pace in May, with diesel sales rising by 9% and petrol by over 10%. Consumption of both the transportation fuels had displayed signs of fatigue in March and April by dropping to single digits after consistently posting double-digit growth for months.\n",
        "June jet fuel sales, however, remained in the positive to post 6% growth from a year ago as holidaymakers and government events kept carriers buoyant. Consumption of LPG, or liquefied petroleum gas, used mostly as domestic cooking fuel, also dipped marginally by 0. 8% on lower home cooking.\n",
        "Sequentially, however, both fuels were in the negative in June. Jet fuel sales during the month under review were 2. 4% lower than May, while LPG consumption fell 3. 4% from a month ago.\"\"\")\n",
        "\n",
        "\n",
        "\n",
        "\n",
        "entities = [(i,i.label_, i.label) for i in nytimes.ents]\n",
        "\n",
        "entities"
      ],
      "metadata": {
        "colab": {
          "base_uri": "https://localhost:8080/"
        },
        "id": "ImMNENtKOmCw",
        "outputId": "32cceb58-ad80-40b9-aae7-387cd6568574"
      },
      "execution_count": null,
      "outputs": [
        {
          "output_type": "execute_result",
          "data": {
            "text/plain": [
              "[(New Delhi, 'GPE', 384),\n",
              " (India, 'GPE', 384),\n",
              " (June, 'DATE', 391),\n",
              " (two months, 'DATE', 391),\n",
              " (3, 'CARDINAL', 397),\n",
              " (7%, 'PERCENT', 393),\n",
              " (a year ago, 'DATE', 391),\n",
              " (June, 'DATE', 391),\n",
              " (0, 'CARDINAL', 397),\n",
              " (4%, 'PERCENT', 393),\n",
              " (May, 'DATE', 391),\n",
              " (May, 'DATE', 391),\n",
              " (9%, 'PERCENT', 393),\n",
              " (over 10%, 'PERCENT', 393),\n",
              " (March, 'DATE', 391),\n",
              " (April, 'DATE', 391),\n",
              " (months, 'DATE', 391),\n",
              " (June, 'DATE', 391),\n",
              " (6%, 'PERCENT', 393),\n",
              " (a year ago, 'DATE', 391),\n",
              " (0, 'CARDINAL', 397),\n",
              " (8%, 'PERCENT', 393),\n",
              " (June, 'DATE', 391),\n",
              " (the month, 'DATE', 391),\n",
              " (2, 'CARDINAL', 397),\n",
              " (4%, 'PERCENT', 393),\n",
              " (May, 'DATE', 391),\n",
              " (3, 'CARDINAL', 397),\n",
              " (4%, 'PERCENT', 393),\n",
              " (a month ago, 'DATE', 391)]"
            ]
          },
          "metadata": {},
          "execution_count": 20
        }
      ]
    },
    {
      "cell_type": "code",
      "source": [
        "from spacy import displacy\n",
        "\n",
        "displacy.render(nytimes,style = \"ent\",jupyter = True)"
      ],
      "metadata": {
        "colab": {
          "base_uri": "https://localhost:8080/",
          "height": 472
        },
        "id": "oLXTQcEQPFHQ",
        "outputId": "40fd5e31-33fd-4ab5-ee76-82ee692fbcd1"
      },
      "execution_count": null,
      "outputs": [
        {
          "output_type": "display_data",
          "data": {
            "text/plain": [
              "<IPython.core.display.HTML object>"
            ],
            "text/html": [
              "<span class=\"tex2jax_ignore\"><div class=\"entities\" style=\"line-height: 2.5; direction: ltr\">\n",
              "<mark class=\"entity\" style=\"background: #feca74; padding: 0.45em 0.6em; margin: 0 0.25em; line-height: 1; border-radius: 0.35em;\">\n",
              "    New Delhi\n",
              "    <span style=\"font-size: 0.8em; font-weight: bold; line-height: 1; border-radius: 0.35em; vertical-align: middle; margin-left: 0.5rem\">GPE</span>\n",
              "</mark>\n",
              " : The pace of growth in \n",
              "<mark class=\"entity\" style=\"background: #feca74; padding: 0.45em 0.6em; margin: 0 0.25em; line-height: 1; border-radius: 0.35em;\">\n",
              "    India\n",
              "    <span style=\"font-size: 0.8em; font-weight: bold; line-height: 1; border-radius: 0.35em; vertical-align: middle; margin-left: 0.5rem\">GPE</span>\n",
              "</mark>\n",
              "’s fuel consumption faltered in \n",
              "<mark class=\"entity\" style=\"background: #bfe1d9; padding: 0.45em 0.6em; margin: 0 0.25em; line-height: 1; border-radius: 0.35em;\">\n",
              "    June\n",
              "    <span style=\"font-size: 0.8em; font-weight: bold; line-height: 1; border-radius: 0.35em; vertical-align: middle; margin-left: 0.5rem\">DATE</span>\n",
              "</mark>\n",
              " as monsoon advanced through most parts of the country and holiday season tapered off. This muted demand from farm, construction and travel sectors after \n",
              "<mark class=\"entity\" style=\"background: #bfe1d9; padding: 0.45em 0.6em; margin: 0 0.25em; line-height: 1; border-radius: 0.35em;\">\n",
              "    two months\n",
              "    <span style=\"font-size: 0.8em; font-weight: bold; line-height: 1; border-radius: 0.35em; vertical-align: middle; margin-left: 0.5rem\">DATE</span>\n",
              "</mark>\n",
              " of a sharp uptick.<br>Preliminary industry data shows diesel demand — a key indicator of economic activity — slipped into the red, with sales dropping \n",
              "<mark class=\"entity\" style=\"background: #e4e7d2; padding: 0.45em 0.6em; margin: 0 0.25em; line-height: 1; border-radius: 0.35em;\">\n",
              "    3\n",
              "    <span style=\"font-size: 0.8em; font-weight: bold; line-height: 1; border-radius: 0.35em; vertical-align: middle; margin-left: 0.5rem\">CARDINAL</span>\n",
              "</mark>\n",
              ". \n",
              "<mark class=\"entity\" style=\"background: #e4e7d2; padding: 0.45em 0.6em; margin: 0 0.25em; line-height: 1; border-radius: 0.35em;\">\n",
              "    7%\n",
              "    <span style=\"font-size: 0.8em; font-weight: bold; line-height: 1; border-radius: 0.35em; vertical-align: middle; margin-left: 0.5rem\">PERCENT</span>\n",
              "</mark>\n",
              " from \n",
              "<mark class=\"entity\" style=\"background: #bfe1d9; padding: 0.45em 0.6em; margin: 0 0.25em; line-height: 1; border-radius: 0.35em;\">\n",
              "    a year ago\n",
              "    <span style=\"font-size: 0.8em; font-weight: bold; line-height: 1; border-radius: 0.35em; vertical-align: middle; margin-left: 0.5rem\">DATE</span>\n",
              "</mark>\n",
              ". But petrol consumption grew by about the same margin, buoyed by the concluding strains of holiday travel and people’s continued preference for personal vehicles.<br>Sequentially too \n",
              "<mark class=\"entity\" style=\"background: #bfe1d9; padding: 0.45em 0.6em; margin: 0 0.25em; line-height: 1; border-radius: 0.35em;\">\n",
              "    June\n",
              "    <span style=\"font-size: 0.8em; font-weight: bold; line-height: 1; border-radius: 0.35em; vertical-align: middle; margin-left: 0.5rem\">DATE</span>\n",
              "</mark>\n",
              " sales remained flat, with diesel slipping marginally \n",
              "<mark class=\"entity\" style=\"background: #e4e7d2; padding: 0.45em 0.6em; margin: 0 0.25em; line-height: 1; border-radius: 0.35em;\">\n",
              "    0\n",
              "    <span style=\"font-size: 0.8em; font-weight: bold; line-height: 1; border-radius: 0.35em; vertical-align: middle; margin-left: 0.5rem\">CARDINAL</span>\n",
              "</mark>\n",
              ". \n",
              "<mark class=\"entity\" style=\"background: #e4e7d2; padding: 0.45em 0.6em; margin: 0 0.25em; line-height: 1; border-radius: 0.35em;\">\n",
              "    4%\n",
              "    <span style=\"font-size: 0.8em; font-weight: bold; line-height: 1; border-radius: 0.35em; vertical-align: middle; margin-left: 0.5rem\">PERCENT</span>\n",
              "</mark>\n",
              " from \n",
              "<mark class=\"entity\" style=\"background: #bfe1d9; padding: 0.45em 0.6em; margin: 0 0.25em; line-height: 1; border-radius: 0.35em;\">\n",
              "    May\n",
              "    <span style=\"font-size: 0.8em; font-weight: bold; line-height: 1; border-radius: 0.35em; vertical-align: middle; margin-left: 0.5rem\">DATE</span>\n",
              "</mark>\n",
              " and petrol remaining same level as before. This is largely due to the seasonal factor when rains impact construction and transportation as well as use of irrigation pumps, while lower demand for power precludes use of generators.<br>Sales have moved into the slow lane after growing at a blistering pace in \n",
              "<mark class=\"entity\" style=\"background: #bfe1d9; padding: 0.45em 0.6em; margin: 0 0.25em; line-height: 1; border-radius: 0.35em;\">\n",
              "    May\n",
              "    <span style=\"font-size: 0.8em; font-weight: bold; line-height: 1; border-radius: 0.35em; vertical-align: middle; margin-left: 0.5rem\">DATE</span>\n",
              "</mark>\n",
              ", with diesel sales rising by \n",
              "<mark class=\"entity\" style=\"background: #e4e7d2; padding: 0.45em 0.6em; margin: 0 0.25em; line-height: 1; border-radius: 0.35em;\">\n",
              "    9%\n",
              "    <span style=\"font-size: 0.8em; font-weight: bold; line-height: 1; border-radius: 0.35em; vertical-align: middle; margin-left: 0.5rem\">PERCENT</span>\n",
              "</mark>\n",
              " and petrol by \n",
              "<mark class=\"entity\" style=\"background: #e4e7d2; padding: 0.45em 0.6em; margin: 0 0.25em; line-height: 1; border-radius: 0.35em;\">\n",
              "    over 10%\n",
              "    <span style=\"font-size: 0.8em; font-weight: bold; line-height: 1; border-radius: 0.35em; vertical-align: middle; margin-left: 0.5rem\">PERCENT</span>\n",
              "</mark>\n",
              ". Consumption of both the transportation fuels had displayed signs of fatigue in \n",
              "<mark class=\"entity\" style=\"background: #bfe1d9; padding: 0.45em 0.6em; margin: 0 0.25em; line-height: 1; border-radius: 0.35em;\">\n",
              "    March\n",
              "    <span style=\"font-size: 0.8em; font-weight: bold; line-height: 1; border-radius: 0.35em; vertical-align: middle; margin-left: 0.5rem\">DATE</span>\n",
              "</mark>\n",
              " and \n",
              "<mark class=\"entity\" style=\"background: #bfe1d9; padding: 0.45em 0.6em; margin: 0 0.25em; line-height: 1; border-radius: 0.35em;\">\n",
              "    April\n",
              "    <span style=\"font-size: 0.8em; font-weight: bold; line-height: 1; border-radius: 0.35em; vertical-align: middle; margin-left: 0.5rem\">DATE</span>\n",
              "</mark>\n",
              " by dropping to single digits after consistently posting double-digit growth for \n",
              "<mark class=\"entity\" style=\"background: #bfe1d9; padding: 0.45em 0.6em; margin: 0 0.25em; line-height: 1; border-radius: 0.35em;\">\n",
              "    months\n",
              "    <span style=\"font-size: 0.8em; font-weight: bold; line-height: 1; border-radius: 0.35em; vertical-align: middle; margin-left: 0.5rem\">DATE</span>\n",
              "</mark>\n",
              ".<br>\n",
              "<mark class=\"entity\" style=\"background: #bfe1d9; padding: 0.45em 0.6em; margin: 0 0.25em; line-height: 1; border-radius: 0.35em;\">\n",
              "    June\n",
              "    <span style=\"font-size: 0.8em; font-weight: bold; line-height: 1; border-radius: 0.35em; vertical-align: middle; margin-left: 0.5rem\">DATE</span>\n",
              "</mark>\n",
              " jet fuel sales, however, remained in the positive to post \n",
              "<mark class=\"entity\" style=\"background: #e4e7d2; padding: 0.45em 0.6em; margin: 0 0.25em; line-height: 1; border-radius: 0.35em;\">\n",
              "    6%\n",
              "    <span style=\"font-size: 0.8em; font-weight: bold; line-height: 1; border-radius: 0.35em; vertical-align: middle; margin-left: 0.5rem\">PERCENT</span>\n",
              "</mark>\n",
              " growth from \n",
              "<mark class=\"entity\" style=\"background: #bfe1d9; padding: 0.45em 0.6em; margin: 0 0.25em; line-height: 1; border-radius: 0.35em;\">\n",
              "    a year ago\n",
              "    <span style=\"font-size: 0.8em; font-weight: bold; line-height: 1; border-radius: 0.35em; vertical-align: middle; margin-left: 0.5rem\">DATE</span>\n",
              "</mark>\n",
              " as holidaymakers and government events kept carriers buoyant. Consumption of LPG, or liquefied petroleum gas, used mostly as domestic cooking fuel, also dipped marginally by \n",
              "<mark class=\"entity\" style=\"background: #e4e7d2; padding: 0.45em 0.6em; margin: 0 0.25em; line-height: 1; border-radius: 0.35em;\">\n",
              "    0\n",
              "    <span style=\"font-size: 0.8em; font-weight: bold; line-height: 1; border-radius: 0.35em; vertical-align: middle; margin-left: 0.5rem\">CARDINAL</span>\n",
              "</mark>\n",
              ". \n",
              "<mark class=\"entity\" style=\"background: #e4e7d2; padding: 0.45em 0.6em; margin: 0 0.25em; line-height: 1; border-radius: 0.35em;\">\n",
              "    8%\n",
              "    <span style=\"font-size: 0.8em; font-weight: bold; line-height: 1; border-radius: 0.35em; vertical-align: middle; margin-left: 0.5rem\">PERCENT</span>\n",
              "</mark>\n",
              " on lower home cooking.<br>Sequentially, however, both fuels were in the negative in \n",
              "<mark class=\"entity\" style=\"background: #bfe1d9; padding: 0.45em 0.6em; margin: 0 0.25em; line-height: 1; border-radius: 0.35em;\">\n",
              "    June\n",
              "    <span style=\"font-size: 0.8em; font-weight: bold; line-height: 1; border-radius: 0.35em; vertical-align: middle; margin-left: 0.5rem\">DATE</span>\n",
              "</mark>\n",
              ". Jet fuel sales during \n",
              "<mark class=\"entity\" style=\"background: #bfe1d9; padding: 0.45em 0.6em; margin: 0 0.25em; line-height: 1; border-radius: 0.35em;\">\n",
              "    the month\n",
              "    <span style=\"font-size: 0.8em; font-weight: bold; line-height: 1; border-radius: 0.35em; vertical-align: middle; margin-left: 0.5rem\">DATE</span>\n",
              "</mark>\n",
              " under review were \n",
              "<mark class=\"entity\" style=\"background: #e4e7d2; padding: 0.45em 0.6em; margin: 0 0.25em; line-height: 1; border-radius: 0.35em;\">\n",
              "    2\n",
              "    <span style=\"font-size: 0.8em; font-weight: bold; line-height: 1; border-radius: 0.35em; vertical-align: middle; margin-left: 0.5rem\">CARDINAL</span>\n",
              "</mark>\n",
              ". \n",
              "<mark class=\"entity\" style=\"background: #e4e7d2; padding: 0.45em 0.6em; margin: 0 0.25em; line-height: 1; border-radius: 0.35em;\">\n",
              "    4%\n",
              "    <span style=\"font-size: 0.8em; font-weight: bold; line-height: 1; border-radius: 0.35em; vertical-align: middle; margin-left: 0.5rem\">PERCENT</span>\n",
              "</mark>\n",
              " lower than \n",
              "<mark class=\"entity\" style=\"background: #bfe1d9; padding: 0.45em 0.6em; margin: 0 0.25em; line-height: 1; border-radius: 0.35em;\">\n",
              "    May\n",
              "    <span style=\"font-size: 0.8em; font-weight: bold; line-height: 1; border-radius: 0.35em; vertical-align: middle; margin-left: 0.5rem\">DATE</span>\n",
              "</mark>\n",
              ", while LPG consumption fell \n",
              "<mark class=\"entity\" style=\"background: #e4e7d2; padding: 0.45em 0.6em; margin: 0 0.25em; line-height: 1; border-radius: 0.35em;\">\n",
              "    3\n",
              "    <span style=\"font-size: 0.8em; font-weight: bold; line-height: 1; border-radius: 0.35em; vertical-align: middle; margin-left: 0.5rem\">CARDINAL</span>\n",
              "</mark>\n",
              ". \n",
              "<mark class=\"entity\" style=\"background: #e4e7d2; padding: 0.45em 0.6em; margin: 0 0.25em; line-height: 1; border-radius: 0.35em;\">\n",
              "    4%\n",
              "    <span style=\"font-size: 0.8em; font-weight: bold; line-height: 1; border-radius: 0.35em; vertical-align: middle; margin-left: 0.5rem\">PERCENT</span>\n",
              "</mark>\n",
              " from \n",
              "<mark class=\"entity\" style=\"background: #bfe1d9; padding: 0.45em 0.6em; margin: 0 0.25em; line-height: 1; border-radius: 0.35em;\">\n",
              "    a month ago\n",
              "    <span style=\"font-size: 0.8em; font-weight: bold; line-height: 1; border-radius: 0.35em; vertical-align: middle; margin-left: 0.5rem\">DATE</span>\n",
              "</mark>\n",
              ".</div></span>"
            ]
          },
          "metadata": {}
        }
      ]
    },
    {
      "cell_type": "code",
      "source": [
        "displacy.render(nytimes,style = \"dep\",jupyter=True)"
      ],
      "metadata": {
        "id": "j15nVixBQnx7"
      },
      "execution_count": null,
      "outputs": []
    },
    {
      "cell_type": "code",
      "source": [
        "search_doc = nlp(\"This was very strange argument between american and british person\")\n",
        "\n",
        "main_doc = nlp(\"He was from Japan, but a true English gentleman in my eyes, and another one of the reasons as to why I liked going to school.\")\n",
        "\n",
        "main_doc.similarity(search_doc)"
      ],
      "metadata": {
        "colab": {
          "base_uri": "https://localhost:8080/"
        },
        "id": "uYzlrgDgRIn6",
        "outputId": "36196571-ab36-419d-97ad-7532422a03a8"
      },
      "execution_count": null,
      "outputs": [
        {
          "output_type": "stream",
          "name": "stderr",
          "text": [
            "<ipython-input-26-da11a3b6ccf4>:5: UserWarning: [W007] The model you're using has no word vectors loaded, so the result of the Doc.similarity method will be based on the tagger, parser and NER, which may not give useful similarity judgements. This may happen if you're using one of the small models, e.g. `en_core_web_sm`, which don't ship with word vectors and only use context-sensitive tensors. You can always add your own word vectors, or use one of the larger models instead if available.\n",
            "  main_doc.similarity(search_doc)\n"
          ]
        },
        {
          "output_type": "execute_result",
          "data": {
            "text/plain": [
              "0.2737330800570722"
            ]
          },
          "metadata": {},
          "execution_count": 26
        }
      ]
    }
  ]
}